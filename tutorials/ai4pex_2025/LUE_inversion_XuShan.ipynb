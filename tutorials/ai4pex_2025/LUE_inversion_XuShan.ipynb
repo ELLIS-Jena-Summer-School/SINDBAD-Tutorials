{
 "cells": [
  {
   "cell_type": "markdown",
   "id": "e70e68e9",
   "metadata": {},
   "source": []
  },
  {
   "cell_type": "code",
   "execution_count": null,
   "id": "f362f113",
   "metadata": {},
   "outputs": [],
   "source": []
  },
  {
   "cell_type": "markdown",
   "id": "4b9bad96",
   "metadata": {},
   "source": [
    "## 📓 Hybrid Inversion with SINDBAD-Tutorials\n",
    "\n",
    "---\n",
    "\n",
    "### 📌 Purpose\n",
    "\n",
    "This notebook sets up and runs hybrid inversion experiments using the SINDBAD-Tutorials framework. It includes training of ML-based observation operators and the evaluation of model parameters through data assimilation.\n",
    "\n",
    "---"
   ]
  },
  {
   "cell_type": "markdown",
   "id": "25837597",
   "metadata": {},
   "source": [
    "### check the system, Mac or Win?"
   ]
  },
  {
   "cell_type": "code",
   "execution_count": 2,
   "id": "0bf055b0",
   "metadata": {},
   "outputs": [],
   "source": [
    "if Sys.iswindows()\n",
    "    ENV[\"USER\"] = Sys.iswindows() ? ENV[\"USERNAME\"] : ENV[\"USER\"]\n",
    "end"
   ]
  },
  {
   "cell_type": "markdown",
   "id": "2a8d22f5",
   "metadata": {},
   "source": [
    "### ⚙️ Setup & Dependencies\n",
    "\n",
    "- Uses Julia packages:\n",
    "  - `SindbadTutorials`, `SindbadML`, `Revise`\n",
    "  - `Plots` for visualization\n",
    "- Custom helper functions are imported via `tutorial_helpers.jl`\n",
    "- User and OS setup is handled for Windows compatibility\n",
    "\n",
    "---"
   ]
  },
  {
   "cell_type": "code",
   "execution_count": 4,
   "id": "39231d4c",
   "metadata": {},
   "outputs": [
    {
     "name": "stderr",
     "output_type": "stream",
     "text": [
      "WARNING: redefinition of constant Main.missing_sites_in_data. This may fail, cause incorrect answers, or produce other errors.\n"
     ]
    }
   ],
   "source": [
    "using Revise\n",
    "using SindbadTutorials\n",
    "using SindbadML\n",
    "using SindbadML.Random\n",
    "using SindbadTutorials.Plots\n",
    "\n",
    "include(\"tutorial_helpers.jl\")\n",
    "\n",
    "selected_site_indices = getSiteIndicesForHybrid();\n",
    "do_random = 0# set to integer values larger than zero to use random selection of #do_random sites\n",
    "if do_random > 0\n",
    "    Random.seed!(1234)\n",
    "    selected_site_indices = first(shuffle(selected_site_indices), do_random)\n",
    "end\n",
    "\n"
   ]
  },
  {
   "cell_type": "markdown",
   "id": "b5ba60ff",
   "metadata": {},
   "source": [
    "### Data and Paths\n",
    "Data to be used can be found here: [Nextcloud Link](https://nextcloud.bgc-jena.mpg.de/s/w2mbH59W4nF3Tcd)  \n",
    "Organizing the paths of data sources and outputs for this experiment.  \n",
    "Paths include:\n",
    "- `path_input`: Zarr data for site-level runs\n",
    "- `path_observation`: Observation data (in the same file)\n",
    "- `path_covariates`: Covariates data used in ML training\n",
    "- `path_output`: Directory for experiment outputs"
   ]
  },
  {
   "cell_type": "code",
   "execution_count": null,
   "id": "63f1cd92",
   "metadata": {},
   "outputs": [],
   "source": []
  },
  {
   "cell_type": "markdown",
   "id": "b17e1529",
   "metadata": {},
   "source": []
  }
 ],
 "metadata": {
  "kernelspec": {
   "display_name": "Julia 1.11.5",
   "language": "julia",
   "name": "julia-1.11"
  },
  "language_info": {
   "file_extension": ".jl",
   "mimetype": "application/julia",
   "name": "julia",
   "version": "1.11.5"
  }
 },
 "nbformat": 4,
 "nbformat_minor": 5
}
